{
 "cells": [
  {
   "cell_type": "markdown",
   "metadata": {},
   "source": [
    "# Vanilla XGBoost File\n",
    "\n",
    "We want a vanilla XGBoost file that can be given to software engineers in order for them to be able to run models through the terminal without having to touch any of the code. The following is a blackbox implementation of an XGBoost model that assumes model-ready data (no preprocessing necessary)."
   ]
  },
  {
   "cell_type": "code",
   "execution_count": 1,
   "metadata": {},
   "outputs": [],
   "source": [
    "import xgboost as xgb\n",
    "import numpy as np\n",
    "import pandas as pd"
   ]
  },
  {
   "cell_type": "markdown",
   "metadata": {},
   "source": [
    "This file will obviously not have the command line interface. This is also being done in order to more readily debug issues because the python console is a pain.  \n",
    "The following class was developed by a Kagggler who needed to get out of fold predictions from a cross validation run of XGBoost. We need to do the same thing. In R, this is super simple just by adding a Predictions=TRUE flag to the CV call. In Python, this doesn't exist, so our friend developed this class in order to make our lives a bit easier."
   ]
  },
  {
   "cell_type": "code",
   "execution_count": 2,
   "metadata": {},
   "outputs": [],
   "source": [
    "class OOFCallback:\n",
    "    def  __init__(self, oof_preds_dict, maximize=True):\n",
    "        \"\"\"\n",
    "        :param dict oof_preds_dict: Should be an empty dict which can later be\n",
    "            retrieved.\n",
    "        :param bool maximize: If True, higher metric scores treated as better.\n",
    "        \"\"\"\n",
    "        self.best_eval_metric = None\n",
    "        self.oof_preds_dict = oof_preds_dict\n",
    "        self.maximize=maximize\n",
    "\n",
    "    def __call__(self, cbenv):\n",
    "        current_val_score = cbenv.evaluation_result_list[1][1]\n",
    "        if self.best_eval_metric is None:\n",
    "            self.best_eval_metric = current_val_score\n",
    "        if self.maximize:\n",
    "            if current_val_score >= self.best_eval_metric:\n",
    "                self.best_eval_metric = current_val_score\n",
    "                self._compute_oof_preds(cbenv.cvfolds)\n",
    "            elif current_val_score <= self.best_eval_metric:\n",
    "                self.best_eval_metric = current_val_score\n",
    "                self._compute_oof_preds(cbenv.cvfolds)\n",
    "\n",
    "    def _compute_oof_preds(self, cvfolds):\n",
    "        for i, fold in enumerate(cvfolds):\n",
    "            self.oof_preds_dict[i] = fold.bst.predict(fold.dtest)\n"
   ]
  },
  {
   "cell_type": "markdown",
   "metadata": {},
   "source": [
    "This next function is to have all the parameters in one place so if anyone needs to tweak them, they're easy to find."
   ]
  },
  {
   "cell_type": "code",
   "execution_count": 11,
   "metadata": {},
   "outputs": [],
   "source": [
    "def get_params():\n",
    "\n",
    "    params = {}\n",
    "    params[\"objective\"] = \"binary:logistic\"\n",
    "    params[\"eta\"] = 0.1\n",
    "    params[\"subsample\"] = 0.7\n",
    "    params[\"colsample_bytree\"] = 0.7\n",
    "    params[\"silent\"] = 1\n",
    "    params[\"max_depth\"] = 5\n",
    "    params[\"eval_metric\"] = \"logloss\"\n",
    "    plst = list(params.items())\n",
    "\n",
    "    return plst"
   ]
  },
  {
   "cell_type": "markdown",
   "metadata": {},
   "source": [
    "Now we can read in the data and start training the model. The problem is we don't know how to convert the predictions array into a suitable pandas dataframe, so that's why the notebook was created."
   ]
  },
  {
   "cell_type": "code",
   "execution_count": 4,
   "metadata": {},
   "outputs": [],
   "source": [
    "data = pd.read_csv('data/training_data.csv')"
   ]
  },
  {
   "cell_type": "code",
   "execution_count": 5,
   "metadata": {},
   "outputs": [],
   "source": [
    "y_col = 'label'"
   ]
  },
  {
   "cell_type": "code",
   "execution_count": 6,
   "metadata": {},
   "outputs": [],
   "source": [
    "data = data.drop(\"text\", axis = 1)"
   ]
  },
  {
   "cell_type": "code",
   "execution_count": 7,
   "metadata": {
    "scrolled": true
   },
   "outputs": [
    {
     "data": {
      "text/plain": [
       "<bound method NDFrame.head of      label      dim0      dim1      dim2      dim3      dim4      dim5  \\\n",
       "0        1 -0.064990 -0.063133 -0.023568 -0.021220 -0.020574  0.048391   \n",
       "1        1 -0.002903 -0.033901  0.058160  0.030840  0.002759 -0.021980   \n",
       "2        1  0.032543  0.000181  0.003660  0.003906 -0.078140 -0.007952   \n",
       "3        1  0.027940  0.059848  0.059421 -0.054741 -0.008796 -0.012643   \n",
       "4        1  0.023654 -0.000891  0.004695 -0.031286 -0.023597  0.057335   \n",
       "..     ...       ...       ...       ...       ...       ...       ...   \n",
       "175      0  0.044127  0.073354  0.066113  0.007997 -0.022069 -0.032995   \n",
       "176      0 -0.091458 -0.030164  0.026322 -0.043284  0.008432  0.009224   \n",
       "177      0 -0.070365  0.066311 -0.037964  0.065658  0.027124  0.013010   \n",
       "178      0  0.013915  0.083097  0.019869  0.078082  0.018011 -0.028788   \n",
       "179      0  0.003434 -0.001303  0.036101  0.040438 -0.023454 -0.017268   \n",
       "\n",
       "         dim6      dim7      dim8  ...    dim502    dim503    dim504  \\\n",
       "0   -0.046147 -0.022243 -0.092602  ...  0.042449 -0.005471  0.015787   \n",
       "1   -0.030939 -0.025083 -0.084002  ...  0.028744 -0.060950  0.067910   \n",
       "2   -0.073745  0.012192 -0.114384  ...  0.038316  0.010493  0.025122   \n",
       "3    0.008530  0.007128 -0.083678  ... -0.067580  0.001966 -0.036602   \n",
       "4   -0.044198 -0.014550 -0.113889  ... -0.002575 -0.031125  0.031266   \n",
       "..        ...       ...       ...  ...       ...       ...       ...   \n",
       "175  0.040123  0.002381 -0.089709  ... -0.023895 -0.032115  0.054538   \n",
       "176 -0.044273 -0.037542 -0.047293  ... -0.047060 -0.009708 -0.000092   \n",
       "177 -0.089877  0.022516 -0.024739  ...  0.092793  0.008101  0.064757   \n",
       "178 -0.046098 -0.023181 -0.095944  ... -0.008418  0.012365 -0.012100   \n",
       "179 -0.070539 -0.057301 -0.039999  ... -0.096703 -0.003356  0.015555   \n",
       "\n",
       "       dim505    dim506    dim507    dim508    dim509    dim510    dim511  \n",
       "0   -0.092791  0.003217  0.001253  0.014106  0.015535 -0.046755 -0.019641  \n",
       "1   -0.092110  0.071191 -0.001670  0.015438  0.044535 -0.008893 -0.012162  \n",
       "2   -0.064175  0.037418 -0.004126  0.072015  0.063883 -0.032822  0.032366  \n",
       "3   -0.054035  0.008477 -0.027819  0.033690  0.045877  0.027081 -0.023267  \n",
       "4   -0.043307  0.084269 -0.014887 -0.021187  0.043640 -0.016463 -0.038821  \n",
       "..        ...       ...       ...       ...       ...       ...       ...  \n",
       "175 -0.068273  0.050008  0.028002  0.007586  0.073774 -0.083527 -0.000419  \n",
       "176 -0.044233 -0.067907  0.015684  0.009581  0.005498 -0.086303 -0.027029  \n",
       "177 -0.015544  0.030147 -0.011563  0.022422  0.023924 -0.025803 -0.005718  \n",
       "178 -0.033607  0.030815  0.013020 -0.003646  0.031538 -0.024742  0.003342  \n",
       "179  0.031420 -0.002936  0.036848  0.053121 -0.029251 -0.060085 -0.043736  \n",
       "\n",
       "[180 rows x 513 columns]>"
      ]
     },
     "execution_count": 7,
     "metadata": {},
     "output_type": "execute_result"
    }
   ],
   "source": [
    "data.head"
   ]
  },
  {
   "cell_type": "code",
   "execution_count": 15,
   "metadata": {},
   "outputs": [
    {
     "name": "stdout",
     "output_type": "stream",
     "text": [
      "[0]\ttrain-logloss:0.628563+0.00174728\ttest-logloss:0.652106+0.0667614\n",
      "[1]\ttrain-logloss:0.572512+0.00348226\ttest-logloss:0.610289+0.0930772\n",
      "[2]\ttrain-logloss:0.523355+0.00405242\ttest-logloss:0.570178+0.118668\n",
      "[3]\ttrain-logloss:0.480521+0.00439587\ttest-logloss:0.539503+0.140271\n",
      "[4]\ttrain-logloss:0.442365+0.00469035\ttest-logloss:0.510782+0.159242\n",
      "[5]\ttrain-logloss:0.408082+0.00451454\ttest-logloss:0.48661+0.180551\n",
      "[6]\ttrain-logloss:0.377511+0.0044712\ttest-logloss:0.467927+0.193128\n",
      "[7]\ttrain-logloss:0.34987+0.00419237\ttest-logloss:0.449664+0.207575\n",
      "[8]\ttrain-logloss:0.32486+0.00410312\ttest-logloss:0.434948+0.221508\n",
      "[9]\ttrain-logloss:0.302377+0.00419458\ttest-logloss:0.41726+0.230984\n",
      "[10]\ttrain-logloss:0.282101+0.0039296\ttest-logloss:0.404492+0.243886\n",
      "[11]\ttrain-logloss:0.263728+0.00380229\ttest-logloss:0.387927+0.245578\n",
      "[12]\ttrain-logloss:0.247112+0.00364664\ttest-logloss:0.374222+0.249718\n",
      "[13]\ttrain-logloss:0.231755+0.0035553\ttest-logloss:0.360291+0.257395\n",
      "[14]\ttrain-logloss:0.217758+0.00334742\ttest-logloss:0.350568+0.264617\n",
      "[15]\ttrain-logloss:0.204931+0.00338599\ttest-logloss:0.340375+0.271902\n",
      "[16]\ttrain-logloss:0.193246+0.00316591\ttest-logloss:0.332516+0.279302\n",
      "[17]\ttrain-logloss:0.182484+0.0030571\ttest-logloss:0.324918+0.284968\n",
      "[18]\ttrain-logloss:0.172478+0.00288841\ttest-logloss:0.318214+0.297969\n",
      "[19]\ttrain-logloss:0.163288+0.00280355\ttest-logloss:0.311859+0.303708\n",
      "[20]\ttrain-logloss:0.154881+0.00271937\ttest-logloss:0.305821+0.308866\n",
      "[21]\ttrain-logloss:0.147039+0.00252394\ttest-logloss:0.301763+0.317324\n",
      "[22]\ttrain-logloss:0.139835+0.00249581\ttest-logloss:0.295306+0.321551\n",
      "[23]\ttrain-logloss:0.133119+0.00234527\ttest-logloss:0.288848+0.32683\n",
      "[24]\ttrain-logloss:0.126916+0.00226503\ttest-logloss:0.28013+0.328053\n",
      "[25]\ttrain-logloss:0.121092+0.00221316\ttest-logloss:0.275705+0.331972\n",
      "[26]\ttrain-logloss:0.115796+0.00216474\ttest-logloss:0.273472+0.34122\n",
      "[27]\ttrain-logloss:0.110767+0.0020865\ttest-logloss:0.268705+0.344725\n",
      "[28]\ttrain-logloss:0.106095+0.00202852\ttest-logloss:0.263674+0.345362\n",
      "[29]\ttrain-logloss:0.101719+0.00196052\ttest-logloss:0.260307+0.345789\n",
      "[30]\ttrain-logloss:0.09761+0.00192326\ttest-logloss:0.255514+0.348385\n",
      "[31]\ttrain-logloss:0.0937955+0.00185132\ttest-logloss:0.25268+0.353748\n",
      "[32]\ttrain-logloss:0.0902193+0.00180033\ttest-logloss:0.249171+0.355512\n",
      "[33]\ttrain-logloss:0.0868803+0.00176426\ttest-logloss:0.246735+0.357826\n",
      "[34]\ttrain-logloss:0.0837631+0.00171117\ttest-logloss:0.24545+0.362949\n",
      "[35]\ttrain-logloss:0.0808316+0.00165858\ttest-logloss:0.242946+0.366528\n",
      "[36]\ttrain-logloss:0.0780648+0.00162645\ttest-logloss:0.243511+0.376305\n",
      "[37]\ttrain-logloss:0.0754068+0.00160793\ttest-logloss:0.242431+0.380496\n",
      "[38]\ttrain-logloss:0.0729055+0.00156876\ttest-logloss:0.239546+0.381837\n",
      "[39]\ttrain-logloss:0.0705747+0.00151158\ttest-logloss:0.23891+0.388105\n",
      "[40]\ttrain-logloss:0.0683395+0.00148709\ttest-logloss:0.237063+0.392997\n",
      "[41]\ttrain-logloss:0.0662382+0.00143366\ttest-logloss:0.23614+0.400272\n",
      "[42]\ttrain-logloss:0.0642528+0.00138251\ttest-logloss:0.233978+0.402977\n",
      "[43]\ttrain-logloss:0.0623932+0.00133763\ttest-logloss:0.231776+0.40238\n",
      "[44]\ttrain-logloss:0.0605925+0.00130027\ttest-logloss:0.230172+0.406341\n",
      "[45]\ttrain-logloss:0.0588853+0.00126731\ttest-logloss:0.229913+0.411022\n",
      "[46]\ttrain-logloss:0.0572486+0.00126537\ttest-logloss:0.228372+0.410212\n",
      "[47]\ttrain-logloss:0.0557134+0.00122191\ttest-logloss:0.228105+0.415846\n",
      "[48]\ttrain-logloss:0.0542845+0.00118386\ttest-logloss:0.227042+0.41982\n",
      "[49]\ttrain-logloss:0.0529061+0.00115523\ttest-logloss:0.226515+0.425366\n",
      "[50]\ttrain-logloss:0.0515725+0.0011225\ttest-logloss:0.225712+0.429105\n",
      "[51]\ttrain-logloss:0.0503177+0.0010929\ttest-logloss:0.224876+0.432609\n",
      "[52]\ttrain-logloss:0.0490977+0.00104004\ttest-logloss:0.2251+0.43749\n",
      "[53]\ttrain-logloss:0.0479266+0.00101325\ttest-logloss:0.224134+0.439838\n",
      "[54]\ttrain-logloss:0.0468231+0.000997701\ttest-logloss:0.222451+0.438693\n",
      "[55]\ttrain-logloss:0.0457624+0.000959594\ttest-logloss:0.221921+0.442037\n",
      "[56]\ttrain-logloss:0.044741+0.000943628\ttest-logloss:0.221157+0.443649\n",
      "[57]\ttrain-logloss:0.0437486+0.000906787\ttest-logloss:0.219874+0.444648\n",
      "[58]\ttrain-logloss:0.0428111+0.000883387\ttest-logloss:0.218926+0.442278\n",
      "[59]\ttrain-logloss:0.0419411+0.000855797\ttest-logloss:0.217191+0.443812\n",
      "[60]\ttrain-logloss:0.0410874+0.000831461\ttest-logloss:0.215096+0.440949\n",
      "[61]\ttrain-logloss:0.0402733+0.000816526\ttest-logloss:0.214688+0.44397\n",
      "[62]\ttrain-logloss:0.0394768+0.000795938\ttest-logloss:0.214661+0.445652\n",
      "[63]\ttrain-logloss:0.0387199+0.000791008\ttest-logloss:0.214157+0.447915\n",
      "[64]\ttrain-logloss:0.0380054+0.000784444\ttest-logloss:0.213451+0.451319\n",
      "[65]\ttrain-logloss:0.0372971+0.000754549\ttest-logloss:0.214028+0.456118\n",
      "[66]\ttrain-logloss:0.0366355+0.000739335\ttest-logloss:0.213926+0.456604\n",
      "[67]\ttrain-logloss:0.0360014+0.000724711\ttest-logloss:0.21433+0.461196\n",
      "[68]\ttrain-logloss:0.0353717+0.000703428\ttest-logloss:0.214472+0.464083\n",
      "[69]\ttrain-logloss:0.0347844+0.000697943\ttest-logloss:0.214171+0.467682\n",
      "[70]\ttrain-logloss:0.0342084+0.000689302\ttest-logloss:0.214551+0.472366\n",
      "[71]\ttrain-logloss:0.0336643+0.000670672\ttest-logloss:0.21415+0.474644\n",
      "[72]\ttrain-logloss:0.0331468+0.000663513\ttest-logloss:0.214263+0.477347\n",
      "[73]\ttrain-logloss:0.032623+0.000666136\ttest-logloss:0.213791+0.480203\n",
      "[74]\ttrain-logloss:0.032143+0.000649693\ttest-logloss:0.21194+0.479461\n",
      "[75]\ttrain-logloss:0.0316824+0.000652734\ttest-logloss:0.212239+0.478473\n",
      "[76]\ttrain-logloss:0.0312247+0.000638408\ttest-logloss:0.210946+0.479102\n",
      "[77]\ttrain-logloss:0.0307898+0.000626039\ttest-logloss:0.210519+0.480618\n",
      "[78]\ttrain-logloss:0.0303705+0.000622478\ttest-logloss:0.211186+0.485213\n",
      "[79]\ttrain-logloss:0.0299639+0.000622005\ttest-logloss:0.210783+0.486216\n",
      "[80]\ttrain-logloss:0.0295655+0.000606533\ttest-logloss:0.211404+0.491402\n",
      "[81]\ttrain-logloss:0.0291897+0.00058078\ttest-logloss:0.210931+0.490449\n",
      "[82]\ttrain-logloss:0.0288261+0.000557594\ttest-logloss:0.211132+0.492117\n",
      "[83]\ttrain-logloss:0.0284835+0.000547374\ttest-logloss:0.211243+0.49556\n",
      "[84]\ttrain-logloss:0.0281418+0.000554736\ttest-logloss:0.211596+0.499921\n",
      "[85]\ttrain-logloss:0.0278141+0.000553491\ttest-logloss:0.212494+0.504018\n",
      "[86]\ttrain-logloss:0.0274785+0.000537119\ttest-logloss:0.213103+0.508845\n"
     ]
    }
   ],
   "source": [
    "y_train = data[[y_col]]\n",
    "x_train = data.drop(y_col, axis=1)\n",
    "xg_train = xgb.DMatrix(x_train, label=y_train)\n",
    "nfolds = data.shape[0] - 1\n",
    "early_stopping = 10\n",
    "params = get_params()\n",
    "# Data structure in which to save out-of-folds preds\n",
    "oof_preds_dict = {}\n",
    "cv = xgb.cv(params,\n",
    "            xg_train,\n",
    "            5000,\n",
    "            nfold=nfolds,\n",
    "            early_stopping_rounds=early_stopping,\n",
    "            callbacks=[OOFCallback(oof_preds_dict)],\n",
    "            verbose_eval=1)"
   ]
  },
  {
   "cell_type": "code",
   "execution_count": 31,
   "metadata": {
    "collapsed": true
   },
   "outputs": [],
   "source": [
    "best_iteration = cv.shape[0]"
   ]
  },
  {
   "cell_type": "code",
   "execution_count": 32,
   "metadata": {},
   "outputs": [
    {
     "data": {
      "text/plain": [
       "array({0: array([ 233.47164917,   52.31227112,  241.68916321, ...,   44.18590164,\n",
       "        271.86123657,   93.13690186], dtype=float32), 1: array([ 80.23247528,  44.13002396,  32.26177979, ...,  87.49355316,\n",
       "        47.87636185,  59.62857437], dtype=float32), 2: array([  60.50736618,  102.92528534,  273.14767456, ...,  157.75537109,\n",
       "         60.35734558,   79.30904388], dtype=float32), 3: array([ 116.85579681,   43.22634506,   85.74855804, ...,  106.74085236,\n",
       "        116.11756897,  117.32350922], dtype=float32), 4: array([  49.69866943,   83.96920776,   67.47943878, ...,   38.35390854,\n",
       "         96.20708466,  156.2109375 ], dtype=float32)}, dtype=object)"
      ]
     },
     "execution_count": 32,
     "metadata": {},
     "output_type": "execute_result"
    }
   ],
   "source": [
    "oof_preds_nparray = np.asarray(oof_preds_dict)\n",
    "oof_preds_nparray"
   ]
  },
  {
   "cell_type": "code",
   "execution_count": 37,
   "metadata": {},
   "outputs": [
    {
     "data": {
      "text/plain": [
       "()"
      ]
     },
     "execution_count": 37,
     "metadata": {},
     "output_type": "execute_result"
    }
   ],
   "source": [
    "oof_preds_nparray.shape"
   ]
  }
 ],
 "metadata": {
  "kernelspec": {
   "display_name": "Python 3",
   "language": "python",
   "name": "python3"
  },
  "language_info": {
   "codemirror_mode": {
    "name": "ipython",
    "version": 3
   },
   "file_extension": ".py",
   "mimetype": "text/x-python",
   "name": "python",
   "nbconvert_exporter": "python",
   "pygments_lexer": "ipython3",
   "version": "3.7.4"
  }
 },
 "nbformat": 4,
 "nbformat_minor": 2
}
