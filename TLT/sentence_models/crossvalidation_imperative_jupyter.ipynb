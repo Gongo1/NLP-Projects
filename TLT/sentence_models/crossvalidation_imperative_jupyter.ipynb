{
 "cells": [
  {
   "cell_type": "markdown",
   "metadata": {},
   "source": [
    "# Vanilla XGBoost File\n",
    "\n",
    "We want a vanilla XGBoost file that can be given to software engineers in order for them to be able to run models through the terminal without having to touch any of the code. The following is a blackbox implementation of an XGBoost model that assumes model-ready data (no preprocessing necessary)."
   ]
  },
  {
   "cell_type": "code",
   "execution_count": 3,
   "metadata": {},
   "outputs": [],
   "source": [
    "import xgboost as xgb\n",
    "import numpy as np\n",
    "import pandas as pd"
   ]
  },
  {
   "cell_type": "markdown",
   "metadata": {},
   "source": [
    "This file will obviously not have the command line interface. This is also being done in order to more readily debug issues because the python console is a pain.  \n",
    "The following class was developed by a Kagggler who needed to get out of fold predictions from a cross validation run of XGBoost. We need to do the same thing. In R, this is super simple just by adding a Predictions=TRUE flag to the CV call. In Python, this doesn't exist, so our friend developed this class in order to make our lives a bit easier."
   ]
  },
  {
   "cell_type": "code",
   "execution_count": 4,
   "metadata": {},
   "outputs": [],
   "source": [
    "class OOFCallback:\n",
    "    def  __init__(self, oof_preds_dict, maximize=True):\n",
    "        \"\"\"\n",
    "        :param dict oof_preds_dict: Should be an empty dict which can later be\n",
    "            retrieved.\n",
    "        :param bool maximize: If True, higher metric scores treated as better.\n",
    "        \"\"\"\n",
    "        self.best_eval_metric = None\n",
    "        self.oof_preds_dict = oof_preds_dict\n",
    "        self.maximize=maximize\n",
    "\n",
    "    def __call__(self, cbenv):\n",
    "        current_val_score = cbenv.evaluation_result_list[1][1]\n",
    "        if self.best_eval_metric is None:\n",
    "            self.best_eval_metric = current_val_score\n",
    "        if self.maximize:\n",
    "            if current_val_score >= self.best_eval_metric:\n",
    "                self.best_eval_metric = current_val_score\n",
    "                self._compute_oof_preds(cbenv.cvfolds)\n",
    "            elif current_val_score <= self.best_eval_metric:\n",
    "                self.best_eval_metric = current_val_score\n",
    "                self._compute_oof_preds(cbenv.cvfolds)\n",
    "\n",
    "    def _compute_oof_preds(self, cvfolds):\n",
    "        for i, fold in enumerate(cvfolds):\n",
    "            self.oof_preds_dict[i] = fold.bst.predict(fold.dtest)\n"
   ]
  },
  {
   "cell_type": "markdown",
   "metadata": {},
   "source": [
    "This next function is to have all the parameters in one place so if anyone needs to tweak them, they're easy to find."
   ]
  },
  {
   "cell_type": "code",
   "execution_count": 5,
   "metadata": {},
   "outputs": [],
   "source": [
    "def get_params():\n",
    "\n",
    "    params = {}\n",
    "    params[\"objective\"] = \"binary:logistic\"\n",
    "    params[\"eta\"] = 0.1\n",
    "    params[\"subsample\"] = 0.7\n",
    "    params[\"colsample_bytree\"] = 0.7\n",
    "    params[\"silent\"] = 1\n",
    "    params[\"max_depth\"] = 5\n",
    "    params[\"eval_metric\"] = \"logloss\"\n",
    "    plst = list(params.items())\n",
    "\n",
    "    return plst"
   ]
  },
  {
   "cell_type": "markdown",
   "metadata": {},
   "source": [
    "Now we can read in the data and start training the model. The problem is we don't know how to convert the predictions array into a suitable pandas dataframe, so that's why the notebook was created."
   ]
  },
  {
   "cell_type": "code",
   "execution_count": 9,
   "metadata": {},
   "outputs": [],
   "source": [
    "data = pd.read_csv('data/training_data.csv')"
   ]
  },
  {
   "cell_type": "code",
   "execution_count": 10,
   "metadata": {},
   "outputs": [],
   "source": [
    "y_col = 'label'"
   ]
  },
  {
   "cell_type": "code",
   "execution_count": 11,
   "metadata": {},
   "outputs": [],
   "source": [
    "data = data.drop(\"text\", axis = 1)"
   ]
  },
  {
   "cell_type": "code",
   "execution_count": 13,
   "metadata": {},
   "outputs": [
    {
     "name": "stdout",
     "output_type": "stream",
     "text": [
      "[0]\ttrain-logloss:0.609108+0.0014829\ttest-logloss:0.6189+0.0465903\n",
      "[1]\ttrain-logloss:0.538151+0.00183947\ttest-logloss:0.551094+0.0671244\n",
      "[2]\ttrain-logloss:0.478305+0.00189866\ttest-logloss:0.493403+0.0823431\n",
      "[3]\ttrain-logloss:0.427237+0.00196338\ttest-logloss:0.446705+0.0961676\n",
      "[4]\ttrain-logloss:0.383148+0.0018957\ttest-logloss:0.405104+0.103458\n",
      "[5]\ttrain-logloss:0.344636+0.00182232\ttest-logloss:0.367+0.114153\n",
      "[6]\ttrain-logloss:0.31096+0.00174752\ttest-logloss:0.332357+0.117699\n",
      "[7]\ttrain-logloss:0.281377+0.00163893\ttest-logloss:0.303401+0.119538\n",
      "[8]\ttrain-logloss:0.25529+0.00164546\ttest-logloss:0.277693+0.122827\n",
      "[9]\ttrain-logloss:0.232111+0.00160728\ttest-logloss:0.256016+0.131852\n",
      "[10]\ttrain-logloss:0.21161+0.00154167\ttest-logloss:0.237307+0.140076\n",
      "[11]\ttrain-logloss:0.193339+0.00149532\ttest-logloss:0.219064+0.138143\n",
      "[12]\ttrain-logloss:0.176919+0.00140998\ttest-logloss:0.203159+0.141306\n",
      "[13]\ttrain-logloss:0.162183+0.00136531\ttest-logloss:0.188675+0.142443\n",
      "[14]\ttrain-logloss:0.148965+0.00133552\ttest-logloss:0.176757+0.148994\n",
      "[15]\ttrain-logloss:0.137103+0.00130892\ttest-logloss:0.16569+0.153258\n",
      "[16]\ttrain-logloss:0.126355+0.00126316\ttest-logloss:0.15537+0.157603\n",
      "[17]\ttrain-logloss:0.11672+0.0011969\ttest-logloss:0.147564+0.164221\n",
      "[18]\ttrain-logloss:0.107966+0.00117099\ttest-logloss:0.138596+0.164559\n",
      "[19]\ttrain-logloss:0.100048+0.00114298\ttest-logloss:0.131006+0.166944\n",
      "[20]\ttrain-logloss:0.0928654+0.00112946\ttest-logloss:0.124162+0.170204\n",
      "[21]\ttrain-logloss:0.0863492+0.00108934\ttest-logloss:0.117718+0.172586\n",
      "[22]\ttrain-logloss:0.0804074+0.00105431\ttest-logloss:0.112232+0.174219\n",
      "[23]\ttrain-logloss:0.0750046+0.00103608\ttest-logloss:0.107411+0.178657\n",
      "[24]\ttrain-logloss:0.0700803+0.00100423\ttest-logloss:0.102103+0.177727\n",
      "[25]\ttrain-logloss:0.0655707+0.000970239\ttest-logloss:0.0986667+0.181426\n",
      "[26]\ttrain-logloss:0.0614579+0.000927079\ttest-logloss:0.0939703+0.178803\n",
      "[27]\ttrain-logloss:0.0577136+0.000869854\ttest-logloss:0.0915219+0.182776\n",
      "[28]\ttrain-logloss:0.0542679+0.000847415\ttest-logloss:0.0890487+0.188536\n",
      "[29]\ttrain-logloss:0.0511066+0.000848908\ttest-logloss:0.0867946+0.192058\n",
      "[30]\ttrain-logloss:0.0482088+0.000826886\ttest-logloss:0.0834677+0.190353\n",
      "[31]\ttrain-logloss:0.0455453+0.000795544\ttest-logloss:0.0801366+0.186265\n",
      "[32]\ttrain-logloss:0.0430805+0.0007544\ttest-logloss:0.0777988+0.186572\n",
      "[33]\ttrain-logloss:0.04079+0.000731293\ttest-logloss:0.0753329+0.18668\n",
      "[34]\ttrain-logloss:0.0386676+0.000702658\ttest-logloss:0.0730881+0.186537\n",
      "[35]\ttrain-logloss:0.0367149+0.000675888\ttest-logloss:0.0707092+0.18408\n",
      "[36]\ttrain-logloss:0.0348966+0.000635588\ttest-logloss:0.0682339+0.180559\n",
      "[37]\ttrain-logloss:0.0332299+0.000607071\ttest-logloss:0.0666039+0.182756\n",
      "[38]\ttrain-logloss:0.0316632+0.000583337\ttest-logloss:0.0647291+0.18405\n",
      "[39]\ttrain-logloss:0.0302008+0.000556725\ttest-logloss:0.0638129+0.185412\n",
      "[40]\ttrain-logloss:0.0288355+0.000536604\ttest-logloss:0.0615564+0.179954\n",
      "[41]\ttrain-logloss:0.0275653+0.000518457\ttest-logloss:0.0607328+0.182412\n",
      "[42]\ttrain-logloss:0.0263703+0.000498074\ttest-logloss:0.0597798+0.184608\n",
      "[43]\ttrain-logloss:0.0252539+0.000490271\ttest-logloss:0.0590025+0.18476\n",
      "[44]\ttrain-logloss:0.0242022+0.000457239\ttest-logloss:0.0574354+0.180943\n",
      "[45]\ttrain-logloss:0.0232136+0.000444322\ttest-logloss:0.0562264+0.181985\n",
      "[46]\ttrain-logloss:0.0222862+0.000436409\ttest-logloss:0.0555353+0.185643\n",
      "[47]\ttrain-logloss:0.0214144+0.000422851\ttest-logloss:0.0543423+0.185225\n",
      "[48]\ttrain-logloss:0.0205941+0.000406396\ttest-logloss:0.0533588+0.184524\n",
      "[49]\ttrain-logloss:0.0198177+0.000391829\ttest-logloss:0.052053+0.180973\n",
      "[50]\ttrain-logloss:0.0190864+0.000373996\ttest-logloss:0.0509413+0.179356\n",
      "[51]\ttrain-logloss:0.0183952+0.000356223\ttest-logloss:0.0504401+0.181591\n",
      "[52]\ttrain-logloss:0.017746+0.000349689\ttest-logloss:0.0502027+0.185997\n",
      "[53]\ttrain-logloss:0.0171245+0.000333931\ttest-logloss:0.0492826+0.184986\n",
      "[54]\ttrain-logloss:0.0165509+0.000324767\ttest-logloss:0.0485201+0.184235\n",
      "[55]\ttrain-logloss:0.0160039+0.000308985\ttest-logloss:0.0479374+0.184914\n",
      "[56]\ttrain-logloss:0.0155018+0.000308769\ttest-logloss:0.0474138+0.185363\n",
      "[57]\ttrain-logloss:0.0150374+0.000307438\ttest-logloss:0.0463972+0.181169\n",
      "[58]\ttrain-logloss:0.0146135+0.000320943\ttest-logloss:0.045989+0.18265\n",
      "[59]\ttrain-logloss:0.0142426+0.000337597\ttest-logloss:0.0456109+0.183325\n",
      "[60]\ttrain-logloss:0.0139251+0.000355944\ttest-logloss:0.045223+0.183602\n",
      "[61]\ttrain-logloss:0.013657+0.000369548\ttest-logloss:0.0451942+0.185991\n",
      "[62]\ttrain-logloss:0.0134433+0.000378692\ttest-logloss:0.0448777+0.185329\n",
      "[63]\ttrain-logloss:0.0132721+0.000360068\ttest-logloss:0.0445114+0.184418\n",
      "[64]\ttrain-logloss:0.0131317+0.000373028\ttest-logloss:0.0442623+0.183978\n",
      "[65]\ttrain-logloss:0.0130082+0.000346853\ttest-logloss:0.0440778+0.183241\n",
      "[66]\ttrain-logloss:0.0128953+0.00033931\ttest-logloss:0.0437929+0.183308\n",
      "[67]\ttrain-logloss:0.0128016+0.000348978\ttest-logloss:0.0437823+0.183588\n",
      "[68]\ttrain-logloss:0.0127201+0.000344991\ttest-logloss:0.0435835+0.182843\n",
      "[69]\ttrain-logloss:0.0126536+0.000331606\ttest-logloss:0.0435626+0.1828\n",
      "[70]\ttrain-logloss:0.0125917+0.000331626\ttest-logloss:0.043489+0.182396\n",
      "[71]\ttrain-logloss:0.0125428+0.000318914\ttest-logloss:0.0433726+0.182024\n",
      "[72]\ttrain-logloss:0.0124957+0.000319525\ttest-logloss:0.0432701+0.182086\n",
      "[73]\ttrain-logloss:0.0124561+0.000323536\ttest-logloss:0.0431262+0.18182\n",
      "[74]\ttrain-logloss:0.0124102+0.000323849\ttest-logloss:0.0431161+0.182096\n",
      "[75]\ttrain-logloss:0.0123849+0.000310886\ttest-logloss:0.0430413+0.181897\n",
      "[76]\ttrain-logloss:0.0123487+0.000285417\ttest-logloss:0.042973+0.181942\n",
      "[77]\ttrain-logloss:0.0123181+0.000284009\ttest-logloss:0.0429418+0.182074\n",
      "[78]\ttrain-logloss:0.0122867+0.000280237\ttest-logloss:0.0429379+0.182161\n",
      "[79]\ttrain-logloss:0.0122671+0.000274298\ttest-logloss:0.0428665+0.182023\n",
      "[80]\ttrain-logloss:0.0122317+0.000262305\ttest-logloss:0.0428848+0.182344\n",
      "[81]\ttrain-logloss:0.0122047+0.000266914\ttest-logloss:0.0428717+0.182382\n",
      "[82]\ttrain-logloss:0.0121838+0.000273332\ttest-logloss:0.0427416+0.182175\n",
      "[83]\ttrain-logloss:0.0121697+0.000280045\ttest-logloss:0.0427401+0.18251\n",
      "[84]\ttrain-logloss:0.0121495+0.000269644\ttest-logloss:0.0425957+0.181984\n",
      "[85]\ttrain-logloss:0.0121317+0.000268515\ttest-logloss:0.0425747+0.181678\n",
      "[86]\ttrain-logloss:0.0121093+0.000255653\ttest-logloss:0.0424713+0.181048\n",
      "[87]\ttrain-logloss:0.0120935+0.000251483\ttest-logloss:0.0424626+0.181009\n",
      "[88]\ttrain-logloss:0.0120721+0.000249719\ttest-logloss:0.0424534+0.18095\n",
      "[89]\ttrain-logloss:0.0120587+0.000248705\ttest-logloss:0.0423993+0.180736\n",
      "[90]\ttrain-logloss:0.012045+0.000244431\ttest-logloss:0.0423065+0.180508\n",
      "[91]\ttrain-logloss:0.012033+0.000242251\ttest-logloss:0.0423125+0.180464\n",
      "[92]\ttrain-logloss:0.0120258+0.000241953\ttest-logloss:0.0422672+0.180305\n",
      "[93]\ttrain-logloss:0.0120128+0.00024972\ttest-logloss:0.0422402+0.180285\n",
      "[94]\ttrain-logloss:0.0119997+0.000249218\ttest-logloss:0.0422325+0.180294\n",
      "[95]\ttrain-logloss:0.0119892+0.000251193\ttest-logloss:0.0422435+0.180466\n",
      "[96]\ttrain-logloss:0.0119773+0.000250909\ttest-logloss:0.0422227+0.180464\n",
      "[97]\ttrain-logloss:0.0119623+0.000253845\ttest-logloss:0.042191+0.180499\n",
      "[98]\ttrain-logloss:0.0119465+0.000260856\ttest-logloss:0.0422617+0.181065\n",
      "[99]\ttrain-logloss:0.0119357+0.000251676\ttest-logloss:0.0423551+0.182539\n",
      "[100]\ttrain-logloss:0.0119267+0.000250487\ttest-logloss:0.0423457+0.182439\n",
      "[101]\ttrain-logloss:0.0119184+0.000247807\ttest-logloss:0.0422693+0.182096\n",
      "[102]\ttrain-logloss:0.0119077+0.000243185\ttest-logloss:0.0423091+0.182342\n",
      "[103]\ttrain-logloss:0.0118962+0.000238516\ttest-logloss:0.0422453+0.181942\n",
      "[104]\ttrain-logloss:0.0118911+0.000238499\ttest-logloss:0.042217+0.181798\n",
      "[105]\ttrain-logloss:0.0118879+0.000237628\ttest-logloss:0.0422453+0.182122\n",
      "[106]\ttrain-logloss:0.011875+0.000236565\ttest-logloss:0.0422646+0.182279\n"
     ]
    }
   ],
   "source": [
    "y_train = data[[y_col]]\n",
    "x_train = data.drop(y_col, axis=1)\n",
    "xg_train = xgb.DMatrix(x_train, label=y_train)\n",
    "nfolds = data.shape[0] - 1\n",
    "early_stopping = 10\n",
    "params = get_params()\n",
    "# Data structure in which to save out-of-folds preds\n",
    "oof_preds_dict = {}\n",
    "cv = xgb.cv(params,\n",
    "            xg_train,\n",
    "            5000,\n",
    "            nfold=nfolds,\n",
    "            early_stopping_rounds=early_stopping,\n",
    "            callbacks=[OOFCallback(oof_preds_dict)],\n",
    "            verbose_eval=1)"
   ]
  },
  {
   "cell_type": "code",
   "execution_count": 16,
   "metadata": {},
   "outputs": [],
   "source": [
    "best_iteration = cv.shape[0]\n",
    "evallist = [(dtest, 'eval'), (x_train, 'train')]"
   ]
  },
  {
   "cell_type": "code",
   "execution_count": 17,
   "metadata": {},
   "outputs": [
    {
     "ename": "TypeError",
     "evalue": "train() got an unexpected keyword argument 'num_round'",
     "output_type": "error",
     "traceback": [
      "\u001b[0;31m---------------------------------------------------------------------------\u001b[0m",
      "\u001b[0;31mTypeError\u001b[0m                                 Traceback (most recent call last)",
      "\u001b[0;32m<ipython-input-17-e42dd94a5717>\u001b[0m in \u001b[0;36m<module>\u001b[0;34m\u001b[0m\n\u001b[1;32m      3\u001b[0m                         \u001b[0mnum_round\u001b[0m\u001b[0;34m=\u001b[0m\u001b[0mbest_iteration\u001b[0m\u001b[0;34m,\u001b[0m\u001b[0;34m\u001b[0m\u001b[0;34m\u001b[0m\u001b[0m\n\u001b[1;32m      4\u001b[0m                         \u001b[0mearly_stopping_rounds\u001b[0m \u001b[0;34m=\u001b[0m \u001b[0mearly_stopping\u001b[0m\u001b[0;34m,\u001b[0m\u001b[0;34m\u001b[0m\u001b[0;34m\u001b[0m\u001b[0m\n\u001b[0;32m----> 5\u001b[0;31m                         verbose_eval = 1)\n\u001b[0m",
      "\u001b[0;31mTypeError\u001b[0m: train() got an unexpected keyword argument 'num_round'"
     ]
    }
   ],
   "source": [
    "model = xgb.train(params,\n",
    "                        x_train,\n",
    "                        num_round=best_iteration,\n",
    "                        early_stopping_rounds = early_stopping,\n",
    "                        verbose_eval = 1)"
   ]
  },
  {
   "cell_type": "code",
   "execution_count": 9,
   "metadata": {},
   "outputs": [
    {
     "data": {
      "text/plain": [
       "array({0: array([0.9573348 , 0.84200346], dtype=float32), 1: array([0.03640796], dtype=float32), 2: array([0.11962262], dtype=float32), 3: array([0.07612281], dtype=float32), 4: array([0.9792746], dtype=float32), 5: array([0.6352277], dtype=float32), 6: array([0.8184215], dtype=float32), 7: array([0.03421957], dtype=float32), 8: array([0.1702321], dtype=float32), 9: array([0.994044], dtype=float32), 10: array([0.15319782], dtype=float32), 11: array([0.09052949], dtype=float32), 12: array([0.72497666], dtype=float32), 13: array([0.98848754], dtype=float32), 14: array([0.97886294], dtype=float32), 15: array([0.47278303], dtype=float32), 16: array([0.01305894], dtype=float32), 17: array([0.82224995], dtype=float32), 18: array([0.857151], dtype=float32), 19: array([0.03602412], dtype=float32), 20: array([0.9856543], dtype=float32), 21: array([0.9770398], dtype=float32), 22: array([0.98046184], dtype=float32), 23: array([0.01544303], dtype=float32), 24: array([0.8434238], dtype=float32), 25: array([0.04555992], dtype=float32), 26: array([0.34547824], dtype=float32), 27: array([0.25831372], dtype=float32), 28: array([0.9969029], dtype=float32), 29: array([0.9693299], dtype=float32), 30: array([0.8024576], dtype=float32), 31: array([0.93534625], dtype=float32), 32: array([0.74591315], dtype=float32), 33: array([0.997378], dtype=float32), 34: array([0.9883791], dtype=float32), 35: array([0.17947622], dtype=float32), 36: array([0.96987265], dtype=float32), 37: array([0.9557151], dtype=float32), 38: array([0.06679785], dtype=float32), 39: array([0.09976811], dtype=float32), 40: array([0.950996], dtype=float32), 41: array([0.98448825], dtype=float32), 42: array([0.7453025], dtype=float32), 43: array([0.9894203], dtype=float32), 44: array([0.9899927], dtype=float32), 45: array([0.9489705], dtype=float32), 46: array([0.14454392], dtype=float32), 47: array([0.9951664], dtype=float32), 48: array([0.45528737], dtype=float32), 49: array([0.44963562], dtype=float32), 50: array([0.9830094], dtype=float32), 51: array([0.02128696], dtype=float32), 52: array([0.07981382], dtype=float32), 53: array([0.93866533], dtype=float32), 54: array([0.91351974], dtype=float32), 55: array([0.99129444], dtype=float32), 56: array([0.02382919], dtype=float32), 57: array([0.0278798], dtype=float32), 58: array([0.01976069], dtype=float32), 59: array([0.9148114], dtype=float32), 60: array([0.9921354], dtype=float32), 61: array([0.34354153], dtype=float32), 62: array([0.8519655], dtype=float32), 63: array([0.95511633], dtype=float32), 64: array([0.08055197], dtype=float32), 65: array([0.98934805], dtype=float32), 66: array([0.10343297], dtype=float32), 67: array([0.9203383], dtype=float32), 68: array([0.92584497], dtype=float32), 69: array([0.9661573], dtype=float32), 70: array([0.99037606], dtype=float32), 71: array([0.96926886], dtype=float32), 72: array([0.50664407], dtype=float32), 73: array([0.99403495], dtype=float32), 74: array([0.9726628], dtype=float32), 75: array([0.7381619], dtype=float32), 76: array([0.8159627], dtype=float32), 77: array([0.08079677], dtype=float32), 78: array([0.32973585], dtype=float32), 79: array([0.05615574], dtype=float32), 80: array([0.03110434], dtype=float32), 81: array([0.98346025], dtype=float32), 82: array([0.21785876], dtype=float32), 83: array([0.5690873], dtype=float32), 84: array([0.9879116], dtype=float32), 85: array([0.05259111], dtype=float32), 86: array([0.65592974], dtype=float32), 87: array([0.973139], dtype=float32), 88: array([0.24306577], dtype=float32), 89: array([0.01057257], dtype=float32), 90: array([0.9928121], dtype=float32), 91: array([0.9751891], dtype=float32), 92: array([0.98109573], dtype=float32), 93: array([0.9952982], dtype=float32), 94: array([0.99562526], dtype=float32), 95: array([0.02324777], dtype=float32), 96: array([0.9753051], dtype=float32), 97: array([0.03749739], dtype=float32), 98: array([0.9734157], dtype=float32), 99: array([0.9882173], dtype=float32), 100: array([0.9660705], dtype=float32), 101: array([0.73957604], dtype=float32), 102: array([0.9761836], dtype=float32), 103: array([0.99191767], dtype=float32), 104: array([0.99430555], dtype=float32), 105: array([0.06980807], dtype=float32), 106: array([0.01909825], dtype=float32), 107: array([0.9979546], dtype=float32), 108: array([0.9569526], dtype=float32), 109: array([0.9896884], dtype=float32), 110: array([0.6339679], dtype=float32), 111: array([0.16195554], dtype=float32), 112: array([0.99328], dtype=float32), 113: array([0.01094239], dtype=float32), 114: array([0.02657939], dtype=float32), 115: array([0.6052421], dtype=float32), 116: array([0.9878442], dtype=float32), 117: array([0.83816314], dtype=float32), 118: array([0.09332809], dtype=float32), 119: array([0.97962826], dtype=float32), 120: array([0.9881152], dtype=float32), 121: array([0.032347], dtype=float32), 122: array([0.6281136], dtype=float32), 123: array([0.95640814], dtype=float32), 124: array([0.9791247], dtype=float32), 125: array([0.98722005], dtype=float32), 126: array([0.90151995], dtype=float32), 127: array([0.99247533], dtype=float32), 128: array([0.95284116], dtype=float32), 129: array([0.3478208], dtype=float32), 130: array([0.02234637], dtype=float32), 131: array([0.9138629], dtype=float32), 132: array([0.9870536], dtype=float32), 133: array([0.00773719], dtype=float32), 134: array([0.08995887], dtype=float32), 135: array([0.48774424], dtype=float32), 136: array([0.97815037], dtype=float32), 137: array([0.04776537], dtype=float32), 138: array([0.97028977], dtype=float32), 139: array([0.11708371], dtype=float32), 140: array([0.10208722], dtype=float32), 141: array([0.92462474], dtype=float32), 142: array([0.9957553], dtype=float32), 143: array([0.02629314], dtype=float32), 144: array([0.6187764], dtype=float32), 145: array([0.12543085], dtype=float32), 146: array([0.03282531], dtype=float32), 147: array([0.17595845], dtype=float32), 148: array([0.8754909], dtype=float32), 149: array([0.07879352], dtype=float32), 150: array([0.01068456], dtype=float32), 151: array([0.21910046], dtype=float32), 152: array([0.99490607], dtype=float32), 153: array([0.98755604], dtype=float32), 154: array([0.99274445], dtype=float32), 155: array([0.4567163], dtype=float32), 156: array([0.03527806], dtype=float32), 157: array([0.9108773], dtype=float32), 158: array([0.05497932], dtype=float32), 159: array([0.95369494], dtype=float32), 160: array([0.96999073], dtype=float32), 161: array([0.9945439], dtype=float32), 162: array([0.9539235], dtype=float32), 163: array([0.03709218], dtype=float32), 164: array([0.3199651], dtype=float32), 165: array([0.9903374], dtype=float32), 166: array([0.8973766], dtype=float32), 167: array([0.16556801], dtype=float32), 168: array([0.78043514], dtype=float32), 169: array([0.9848321], dtype=float32), 170: array([0.7751019], dtype=float32), 171: array([0.9947812], dtype=float32), 172: array([0.99299157], dtype=float32), 173: array([0.93033004], dtype=float32), 174: array([0.99132854], dtype=float32), 175: array([0.9476782], dtype=float32), 176: array([0.00991845], dtype=float32), 177: array([0.9716923], dtype=float32), 178: array([0.02330048], dtype=float32)},\n",
       "      dtype=object)"
      ]
     },
     "execution_count": 9,
     "metadata": {},
     "output_type": "execute_result"
    }
   ],
   "source": [
    "oof_preds_nparray = np.asarray(oof_preds_dict)\n",
    "oof_preds_nparray"
   ]
  },
  {
   "cell_type": "code",
   "execution_count": 10,
   "metadata": {},
   "outputs": [
    {
     "data": {
      "text/plain": [
       "()"
      ]
     },
     "execution_count": 10,
     "metadata": {},
     "output_type": "execute_result"
    }
   ],
   "source": [
    "oof_preds_nparray.shape"
   ]
  },
  {
   "cell_type": "code",
   "execution_count": null,
   "metadata": {},
   "outputs": [],
   "source": []
  }
 ],
 "metadata": {
  "kernelspec": {
   "display_name": "Python 3",
   "language": "python",
   "name": "python3"
  },
  "language_info": {
   "codemirror_mode": {
    "name": "ipython",
    "version": 3
   },
   "file_extension": ".py",
   "mimetype": "text/x-python",
   "name": "python",
   "nbconvert_exporter": "python",
   "pygments_lexer": "ipython3",
   "version": "3.7.4"
  }
 },
 "nbformat": 4,
 "nbformat_minor": 2
}
